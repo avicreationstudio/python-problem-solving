{
 "cells": [
  {
   "cell_type": "code",
   "execution_count": 1,
   "metadata": {},
   "outputs": [],
   "source": [
    "\n",
    "t1 = \"ace\"\n",
    "t2 = \"abcde\""
   ]
  },
  {
   "cell_type": "code",
   "execution_count": 2,
   "metadata": {},
   "outputs": [],
   "source": [
    "import prettytable as pt \n",
    "\n",
    "def display(matrix):\n",
    "    p = pt.PrettyTable()\n",
    "    for row in matrix:\n",
    "        p.add_row(row)\n",
    "    print(p)"
   ]
  },
  {
   "cell_type": "code",
   "execution_count": 3,
   "metadata": {},
   "outputs": [],
   "source": [
    "dp = []\n",
    "for i in range(len(t1) + 1):\n",
    "    temp = []\n",
    "    for j in range(len(t2) + 1):\n",
    "        temp.append(0)\n",
    "    dp.append(temp)"
   ]
  },
  {
   "cell_type": "code",
   "execution_count": 4,
   "metadata": {},
   "outputs": [
    {
     "name": "stdout",
     "output_type": "stream",
     "text": [
      "+---------+---------+---------+---------+---------+---------+\n",
      "| Field 1 | Field 2 | Field 3 | Field 4 | Field 5 | Field 6 |\n",
      "+---------+---------+---------+---------+---------+---------+\n",
      "|    0    |    0    |    0    |    0    |    0    |    0    |\n",
      "|    0    |    0    |    0    |    0    |    0    |    0    |\n",
      "|    0    |    0    |    0    |    0    |    0    |    0    |\n",
      "|    0    |    0    |    0    |    0    |    0    |    0    |\n",
      "+---------+---------+---------+---------+---------+---------+\n"
     ]
    }
   ],
   "source": [
    "display(dp)"
   ]
  },
  {
   "cell_type": "code",
   "execution_count": 5,
   "metadata": {},
   "outputs": [
    {
     "data": {
      "text/plain": [
       "3"
      ]
     },
     "execution_count": 5,
     "metadata": {},
     "output_type": "execute_result"
    }
   ],
   "source": [
    "for i in range(1, len(t1) + 1):\n",
    "    for j in range(1, len(t2) + 1):\n",
    "        if t1[i-1] == t2[j-1]:\n",
    "            dp[i][j] =  dp[i-1][j-1] + 1\n",
    "        else:\n",
    "            dp[i][j] = max(dp[i-1][j],dp[i][j-1])\n",
    "output = dp[len(t1)][len(t2)]\n",
    "output"
   ]
  },
  {
   "cell_type": "code",
   "execution_count": 6,
   "metadata": {},
   "outputs": [
    {
     "name": "stdout",
     "output_type": "stream",
     "text": [
      "+---------+---------+---------+---------+---------+---------+\n",
      "| Field 1 | Field 2 | Field 3 | Field 4 | Field 5 | Field 6 |\n",
      "+---------+---------+---------+---------+---------+---------+\n",
      "|    0    |    0    |    0    |    0    |    0    |    0    |\n",
      "|    0    |    1    |    1    |    1    |    1    |    1    |\n",
      "|    0    |    1    |    1    |    2    |    2    |    2    |\n",
      "|    0    |    1    |    1    |    2    |    2    |    3    |\n",
      "+---------+---------+---------+---------+---------+---------+\n"
     ]
    }
   ],
   "source": [
    "display(dp)"
   ]
  },
  {
   "cell_type": "code",
   "execution_count": null,
   "metadata": {},
   "outputs": [],
   "source": []
  },
  {
   "cell_type": "code",
   "execution_count": null,
   "metadata": {},
   "outputs": [],
   "source": []
  }
 ],
 "metadata": {
  "kernelspec": {
   "display_name": "Python 3 (ipykernel)",
   "language": "python",
   "name": "python3"
  },
  "language_info": {
   "codemirror_mode": {
    "name": "ipython",
    "version": 3
   },
   "file_extension": ".py",
   "mimetype": "text/x-python",
   "name": "python",
   "nbconvert_exporter": "python",
   "pygments_lexer": "ipython3",
   "version": "3.12.0"
  }
 },
 "nbformat": 4,
 "nbformat_minor": 4
}
